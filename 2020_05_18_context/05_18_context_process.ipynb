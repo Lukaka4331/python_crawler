{
 "cells": [
  {
   "cell_type": "code",
   "execution_count": null,
   "metadata": {},
   "outputs": [],
   "source": [
    "import requests\n",
    "from bs4 import BeautifulSoup\n",
    "#import time\n",
    "import pandas as pd\n",
    "#import re\n",
    "from tqdm.notebook import tqdm\n",
    "infos_dict = {}\n",
    "infos_dict['Location'] = []\n",
    "data_dict ={}\n",
    "data_dict['Location_URL'] = []"
   ]
  },
  {
   "cell_type": "markdown",
   "metadata": {},
   "source": [
    "# Location"
   ]
  },
  {
   "cell_type": "code",
   "execution_count": null,
   "metadata": {
    "scrolled": true
   },
   "outputs": [],
   "source": [
    "#Location\n",
    "pagenum=63\n",
    "pageurl = 'https://www.taiwan.net.tw/m1.aspx?sNo=0000064&page={}'\n",
    "for page in tqdm(range(pagenum)):\n",
    "    resp = requests.get(pageurl.format(page+1))\n",
    "    soup = BeautifulSoup(resp.text, 'lxml')\n",
    "    for tourist in soup.find_all(\"div\",{\"class\":\"card-title\"}) :\n",
    "        s1=tourist.text\n",
    "        infos_dict['Location'].append(s1)\n",
    "        print(s1)\n",
    "    for tourist_url in soup.find(\"ul\",{\"class\":\"grid card-list card-style-columns\"}).find_all(\"a\",{\"class\":\"card-link\"}) :\n",
    "        Url=\"https://www.taiwan.net.tw/\" + tourist_url.get('href')\n",
    "        data_dict['Location_URL'].append(Url)\n",
    "        print(Url)"
   ]
  },
  {
   "cell_type": "code",
   "execution_count": null,
   "metadata": {},
   "outputs": [],
   "source": [
    "test_img={}\n",
    "test_img['Location']=infos_dict['Location']\n",
    "test_img['test_text']=[]"
   ]
  },
  {
   "cell_type": "markdown",
   "metadata": {},
   "source": [
    "# 文字內容"
   ]
  },
  {
   "cell_type": "code",
   "execution_count": null,
   "metadata": {},
   "outputs": [],
   "source": [
    "test_img={}\n",
    "test_img['Location']=infos_dict['Location']\n",
    "test_img['test_text']=[]\n",
    "#b=\"\"\n",
    "for context in tqdm(range(len(data_dict['Location_URL'])),desc='test_text'):\n",
    "    resp = requests.get(data_dict['Location_URL'][context])\n",
    "    soup = BeautifulSoup(resp.text, 'lxml')\n",
    "    b=\"\"\n",
    "    for viewpoint in soup.find(\"div\",{\"class\":\"content\"}).find(\"div\",{\"class\":\"wrap\"}).find_all(\"p\", recursive=False):\n",
    "        viewpoint_process=viewpoint.text \n",
    "        b=b+viewpoint_process\n",
    "        print(context)\n",
    "    test_img['test_text'].append(b)        "
   ]
  },
  {
   "cell_type": "code",
   "execution_count": null,
   "metadata": {},
   "outputs": [],
   "source": [
    "print(len(test_img['Location']))"
   ]
  },
  {
   "cell_type": "code",
   "execution_count": null,
   "metadata": {},
   "outputs": [],
   "source": [
    "result=pd.DataFrame.from_dict(test_img)    "
   ]
  },
  {
   "cell_type": "code",
   "execution_count": null,
   "metadata": {
    "scrolled": true
   },
   "outputs": [],
   "source": [
    "result"
   ]
  },
  {
   "cell_type": "code",
   "execution_count": null,
   "metadata": {},
   "outputs": [],
   "source": [
    "result.to_csv('0518_context_vr1.csv',index=False)"
   ]
  },
  {
   "cell_type": "code",
   "execution_count": null,
   "metadata": {},
   "outputs": [],
   "source": []
  }
 ],
 "metadata": {
  "kernelspec": {
   "display_name": "Python 3",
   "language": "python",
   "name": "python3"
  },
  "language_info": {
   "codemirror_mode": {
    "name": "ipython",
    "version": 3
   },
   "file_extension": ".py",
   "mimetype": "text/x-python",
   "name": "python",
   "nbconvert_exporter": "python",
   "pygments_lexer": "ipython3",
   "version": "3.7.3"
  }
 },
 "nbformat": 4,
 "nbformat_minor": 2
}
