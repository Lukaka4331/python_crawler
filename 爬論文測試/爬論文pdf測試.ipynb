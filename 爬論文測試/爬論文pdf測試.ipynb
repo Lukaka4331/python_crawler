{
 "cells": [
  {
   "cell_type": "code",
   "execution_count": 4,
   "metadata": {},
   "outputs": [],
   "source": [
    "import requests\n",
    "## pdf連結\n",
    "url = 'https://www.worldscientific.com/doi/pdf/10.1142/S1469026818500086'\n",
    "r = requests.get(url)\n",
    "pdf = r.content       #響應的二進位制檔案\n",
    "with open('加快深度卷積神經網絡的超參數優化.pdf','wb') as f:     #二進位制寫入\n",
    "    f.write(pdf)"
   ]
  },
  {
   "cell_type": "markdown",
   "metadata": {},
   "source": [
    "World Scientific免費開放（free access)自2001年至今出版的期刊文章，使用至2020年6月30日止。\n",
    "\n",
    "https://www.worldscientific.com/page/wsjournals"
   ]
  },
  {
   "cell_type": "markdown",
   "metadata": {},
   "source": [
    "Speeding up the Hyperparameter Optimization of Deep Convolutional Neural Networks\n",
    "\n",
    "[加快深度卷積神經網絡的超參數優化](https://www.worldscientific.com/doi/10.1142/S1469026818500086)"
   ]
  },
  {
   "cell_type": "code",
   "execution_count": null,
   "metadata": {},
   "outputs": [],
   "source": [
    "import requests\n",
    "from bs4 import BeautifulSoup\n",
    "import pandas as pd\n",
    "import re\n",
    "from tqdm.notebook import tqdm"
   ]
  },
  {
   "cell_type": "code",
   "execution_count": null,
   "metadata": {},
   "outputs": [],
   "source": [
    "##論文介紹頁面\n",
    "pageurl = 'https://www.worldscientific.com/doi/10.1142/S1469026818500086'\n",
    "resp = requests.get(pageurl)\n",
    "soup = BeautifulSoup(resp.text, 'lxml')"
   ]
  },
  {
   "cell_type": "code",
   "execution_count": 22,
   "metadata": {},
   "outputs": [
    {
     "name": "stdout",
     "output_type": "stream",
     "text": [
      "/doi/pdf/10.1142/S1469026818500086\n",
      "https://www.worldscientific.com/doi/pdf/10.1142/S1469026818500086\n"
     ]
    }
   ],
   "source": [
    "for journals_url in soup.find(\"ul\",{\"data-db-target-of\":\"downloads\"}).find(\"li\"):\n",
    "    print(journals_url.get('href'))\n",
    "    Url=\"https://www.worldscientific.com\" + journals_url.get('href')\n",
    "    print(Url)\n",
    "\n",
    "r = requests.get(url)\n",
    "pdf = r.content       #響應的二進位制檔案\n",
    "with open('加快深度卷積神經網絡的超參數優化_v1.pdf','wb') as f:     #二進位制寫入\n",
    "    f.write(pdf)"
   ]
  }
 ],
 "metadata": {
  "kernelspec": {
   "display_name": "Python 3",
   "language": "python",
   "name": "python3"
  },
  "language_info": {
   "codemirror_mode": {
    "name": "ipython",
    "version": 3
   },
   "file_extension": ".py",
   "mimetype": "text/x-python",
   "name": "python",
   "nbconvert_exporter": "python",
   "pygments_lexer": "ipython3",
   "version": "3.7.3"
  }
 },
 "nbformat": 4,
 "nbformat_minor": 2
}
