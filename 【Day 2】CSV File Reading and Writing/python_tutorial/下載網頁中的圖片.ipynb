{
 "cells": [
  {
   "cell_type": "markdown",
   "metadata": {},
   "source": [
    "以正確的副檔名下載網頁中的圖片\n",
    "* PTT測試網頁:https://www.ptt.cc/bbs/Beauty/M.1583717349.A.2AE.html\n",
    "* Note：因為 PTT 會詢問「是否滿 18 歲」，這邊可以用 cookies 繞過\n",
    "* requests.get(URL, cookies={'over18': '1'}\n",
    "\n"
   ]
  },
  {
   "cell_type": "markdown",
   "metadata": {},
   "source": [
    "* 作者kelseyaya (Yaya)\n",
    "* 看板Beauty\n",
    "* 標題[廣告] AV女優 天使もえ (多圖)\n",
    "* 時間Mon 3/9 09:29:07 2020"
   ]
  },
  {
   "cell_type": "code",
   "execution_count": 1,
   "metadata": {},
   "outputs": [],
   "source": [
    "import requests\n",
    "import os\n",
    "from bs4 import BeautifulSoup\n",
    "from PIL import Image"
   ]
  },
  {
   "cell_type": "code",
   "execution_count": 2,
   "metadata": {},
   "outputs": [
    {
     "name": "stderr",
     "output_type": "stream",
     "text": [
      "C:\\Users\\csie\\Anaconda3\\envs\\GPU\\lib\\site-packages\\bs4\\__init__.py:181: UserWarning: No parser was explicitly specified, so I'm using the best available HTML parser for this system (\"lxml\"). This usually isn't a problem, but if you run this code on another system, or in a different virtual environment, it may use a different parser and behave differently.\n",
      "\n",
      "The code that caused this warning is on line 193 of the file C:\\Users\\csie\\Anaconda3\\envs\\GPU\\lib\\runpy.py. To get rid of this warning, change code that looks like this:\n",
      "\n",
      " BeautifulSoup(YOUR_MARKUP})\n",
      "\n",
      "to this:\n",
      "\n",
      " BeautifulSoup(YOUR_MARKUP, \"lxml\")\n",
      "\n",
      "  markup_type=markup_type))\n"
     ]
    }
   ],
   "source": [
    "url = 'https://www.ptt.cc/bbs/Beauty/M.1583717349.A.2AE.html'\n",
    "resp = requests.get(url, cookies={'over18': '1'})\n",
    "soup = BeautifulSoup(resp.text)"
   ]
  },
  {
   "cell_type": "code",
   "execution_count": 3,
   "metadata": {},
   "outputs": [],
   "source": [
    "\n",
    "# 決定要儲存的資料夾\n",
    "output_dir = 'downloads'\n",
    "\n",
    "# 假如資料夾不存在就新增一個資料夾\n",
    "if not os.path.exists(output_dir):\n",
    "    os.makedirs(output_dir)"
   ]
  },
  {
   "cell_type": "code",
   "execution_count": 5,
   "metadata": {},
   "outputs": [],
   "source": [
    "image_tags = soup.find(id='main-content').find_all('a', recursive=False)\n"
   ]
  },
  {
   "cell_type": "code",
   "execution_count": 4,
   "metadata": {},
   "outputs": [
    {
     "name": "stdout",
     "output_type": "stream",
     "text": [
      "Save image downloads/lbth765.jpg.jpeg\n",
      "Save image downloads/3nWrKJD.jpg.jpeg\n",
      "Save image downloads/sSbfjTL.jpg.jpeg\n",
      "Save image downloads/ga5t5Ao.jpg.jpeg\n",
      "Save image downloads/OWCEiFj.jpg.jpeg\n",
      "Save image downloads/lyMFNBe.jpg.jpeg\n",
      "Save image downloads/UXcarLQ.jpg.jpeg\n",
      "Save image downloads/DROhdU1.jpg.jpeg\n",
      "Save image downloads/uqdifLi.jpg.jpeg\n",
      "Save image downloads/L0nI8ve.jpg.jpeg\n",
      "Save image downloads/gxDRP3d.jpg.jpeg\n",
      "Save image downloads/MVYRLq7.jpg.jpeg\n",
      "Save image downloads/isQ8YNe.jpg.jpeg\n",
      "Save image downloads/25FkZF5.jpg.jpeg\n",
      "Save image downloads/1R326ko.jpg.jpeg\n",
      "Save image downloads/w8HdYhQ.jpg.jpeg\n",
      "Save image downloads/Z9Ik6JH.jpg.jpeg\n",
      "Save image downloads/sb2NNUx.jpg.jpeg\n",
      "Save image downloads/nxNevTC.jpg.jpeg\n",
      "Save image downloads/eOJ7Lm7.jpg.jpeg\n",
      "Save image downloads/zeeIVH8.jpg.jpeg\n",
      "Save image downloads/VZvswhq.jpg.jpeg\n",
      "Save image downloads/AQ9iAnz.jpg.jpeg\n",
      "Save image downloads/qV3TMw7.jpg.jpeg\n",
      "Save image downloads/c2v9nPG.jpg.jpeg\n",
      "Save image downloads/F7JLxM3.jpg.jpeg\n",
      "Save image downloads/WKSWcHN.jpg.jpeg\n",
      "Save image downloads/ntRdJoM.jpg.jpeg\n",
      "Save image downloads/veHGaer.jpg.jpeg\n",
      "Save image downloads/kdvNkAl.jpg.jpeg\n",
      "Save image downloads/cDTzS9m.jpg.jpeg\n",
      "Save image downloads/DDgT2RQ.jpg.jpeg\n",
      "Save image downloads/A9YF4C3.jpg.jpeg\n",
      "Save image downloads/4kTX1gU.jpg.jpeg\n",
      "Save image downloads/IWBNRkY.jpg.jpeg\n",
      "Save image downloads/sjQwpHY.jpg.jpeg\n",
      "Save image downloads/wCDLcOF.jpg.jpeg\n",
      "Save image downloads/MkBA59v.jpg.jpeg\n",
      "Save image downloads/y57NFlv.jpg.jpeg\n",
      "Save image downloads/gb8BABX.jpg.jpeg\n",
      "Save image downloads/RCy7C4U.jpg.jpeg\n",
      "Save image downloads/3jzMtIH.jpg.jpeg\n",
      "Save image downloads/ihlzCWz.jpg.jpeg\n",
      "Save image downloads/J0webPK.jpg.jpeg\n",
      "Save image downloads/xk2IbQ5.jpg.jpeg\n"
     ]
    }
   ],
   "source": [
    "# 定位所有圖片的 tag\n",
    "#image_tags = soup.find(id='main-content').findChildren('a', recursive=False)\n",
    "image_tags = soup.find(id='main-content').find_all('a', recursive=False)\n",
    "\n",
    "for img_tag in image_tags:\n",
    "    # 取得所有圖片在第三方服務的 id\n",
    "    if 'imgur' not in img_tag['href']:\n",
    "        continue\n",
    "    img_id = img_tag['href'].split('/')[-1]\n",
    "    # 組合圖片而非網站的網址\n",
    "    img_url = 'https://i.imgur.com/{}.jpg'.format(img_id)\n",
    "    #img_url = 'https://imgur.com/{}.jpg'.format(img_id)\n",
    "    # 對圖片送出請求\n",
    "    with requests.get(img_url, stream=True) as r:\n",
    "        r.raise_for_status()#如果status_code不是200,輸出錯誤requests.HTTPError\n",
    "        # 檢查圖片副檔名\n",
    "        img = Image.open(r.raw)\n",
    "        img_savename = '{outdir}/{img_id}.{img_ext}'.format(\n",
    "            outdir=output_dir, img_id=img_id, img_ext=img.format.lower())\n",
    "        img.save(img_savename)\n",
    "        print('Save image {}'.format(img_savename))"
   ]
  },
  {
   "cell_type": "code",
   "execution_count": null,
   "metadata": {},
   "outputs": [],
   "source": []
  }
 ],
 "metadata": {
  "kernelspec": {
   "display_name": "Python 3",
   "language": "python",
   "name": "python3"
  },
  "language_info": {
   "codemirror_mode": {
    "name": "ipython",
    "version": 3
   },
   "file_extension": ".py",
   "mimetype": "text/x-python",
   "name": "python",
   "nbconvert_exporter": "python",
   "pygments_lexer": "ipython3",
   "version": "3.5.5"
  }
 },
 "nbformat": 4,
 "nbformat_minor": 2
}
