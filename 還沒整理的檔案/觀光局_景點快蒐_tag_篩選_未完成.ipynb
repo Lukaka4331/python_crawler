{
 "cells": [
  {
   "cell_type": "code",
   "execution_count": 1,
   "metadata": {},
   "outputs": [],
   "source": [
    "import requests\n",
    "from bs4 import BeautifulSoup\n",
    "import time\n",
    "import pandas as pd\n",
    "import re\n",
    "from tqdm.notebook import tqdm\n"
   ]
  },
  {
   "cell_type": "code",
   "execution_count": 2,
   "metadata": {},
   "outputs": [],
   "source": [
    "import pandas as pd\n",
    "infos_dict = {}\n",
    "infos_dict['Location'] = []\n",
    "infos_dict['phone'] = []\n",
    "infos_dict['address'] = []\n",
    "infos_dict['ip'] = []\n",
    "infos_dict['webisite'] = []\n",
    "infos_dict['tag'] = []\n",
    "a=['#古蹟巡禮']"
   ]
  },
  {
   "cell_type": "code",
   "execution_count": 3,
   "metadata": {},
   "outputs": [],
   "source": [
    "page_all_final=pd.read_csv('C:/Users/csie/Desktop/python_2020-04-30/page_all_final.csv')\n",
    "index_list=[]\n",
    "for  name in page_all_final['Url']:\n",
    "    index_list.append(name)"
   ]
  },
  {
   "cell_type": "code",
   "execution_count": 4,
   "metadata": {},
   "outputs": [
    {
     "data": {
      "text/plain": [
       "['Oops!']"
      ]
     },
     "execution_count": 4,
     "metadata": {},
     "output_type": "execute_result"
    }
   ],
   "source": [
    "a"
   ]
  },
  {
   "cell_type": "code",
   "execution_count": null,
   "metadata": {},
   "outputs": [],
   "source": [
    "#Location\n",
    "pagenum=63\n",
    "pageurl = 'https://www.taiwan.net.tw/m1.aspx?sNo=0000064&page={}'\n",
    "for page in range(pagenum):\n",
    "    resp = requests.get(pageurl.format(page+1))\n",
    "    soup = BeautifulSoup(resp.text, 'lxml')\n",
    "    for tag in soup.find_all(\"div\",{\"class\":\"card-title\"}) :\n",
    "        s1=tag.text\n",
    "        infos_dict['Location'].append(s1)\n",
    "        print(s1)\n",
    "#phone        \n",
    "for t_phone in range(len(index_list)):\n",
    "    resp = requests.get(index_list[t_phone])\n",
    "    soup = BeautifulSoup(resp.text, 'lxml')\n",
    "    phone=[tag.text for tag in soup.find(\"dl\",{\"class\":\"info-table\"}).find_all(\"a\",{\"class\":\"tel-link phone\"})]\n",
    "    if phone :\n",
    "        infos_dict['phone'].extend(phone)\n",
    "        print(t_phone)\n",
    "    else:\n",
    "        print (\"empty\")\n",
    "        infos_dict['phone'].extend(a)       \n",
    "#address\n",
    "for t_address in range(len(index_list)):\n",
    "    resp = requests.get(index_list[t_address])\n",
    "    soup = BeautifulSoup(resp.text, 'lxml')\n",
    "    address=[tag.text for tag in soup.find(\"dl\",{\"class\":\"info-table\"}).find_all(\"a\",{\"class\":\"tel-link address\"})]\n",
    "    if address :\n",
    "        infos_dict['address'].extend(address)\n",
    "        print(t_address)\n",
    "    else:\n",
    "        print (\"empty\")\n",
    "        infos_dict['address'].extend(a)\n",
    "#ip\n",
    "for t_ip in range(len(index_list)):\n",
    "    resp = requests.get(index_list[t_ip])\n",
    "    soup = BeautifulSoup(resp.text, 'lxml')\n",
    "    ip=[tag.text for tag in soup.find(\"dl\",{\"class\":\"info-table\"}).find_all(\"dd\")]\n",
    "    ip_process =\"\".join(ip)\n",
    "    ip_final = re.findall(\"[0-9]+.[0-9]+/[0-9]+.[0-9]+\", ip_process)    \n",
    "    \n",
    "    if ip_final :\n",
    "        infos_dict['ip'].extend(ip_final)\n",
    "        print(t_ip)\n",
    "    else:\n",
    "        print (\"empty\")\n",
    "        infos_dict['ip'].extend(a)   \n",
    "#webisite\n",
    "for t_webisite in range(len(index_list)):\n",
    "    resp = requests.get(index_list[t_webisite])\n",
    "    soup = BeautifulSoup(resp.text, 'lxml')\n",
    "    webisite=[tag.get('href') for tag in soup.find(\"dl\",{\"class\":\"info-table\"}).find_all(\"a\",{\"class\":\"tel-link webside\"})]\n",
    "    if webisite :\n",
    "        infos_dict['webisite'].extend(webisite)\n",
    "        print(t_webisite)\n",
    "    else:\n",
    "        print (\"empty\")\n",
    "        infos_dict['webisite'].extend(a)\n",
    "        \n",
    "result=pd.DataFrame.from_dict(infos_dict)        "
   ]
  },
  {
   "cell_type": "markdown",
   "metadata": {},
   "source": [
    "# tag_篩選_未完成"
   ]
  },
  {
   "cell_type": "code",
   "execution_count": 5,
   "metadata": {},
   "outputs": [
    {
     "data": {
      "application/vnd.jupyter.widget-view+json": {
       "model_id": "58b2889c43594f25960a1c95480a606c",
       "version_major": 2,
       "version_minor": 0
      },
      "text/plain": [
       "HBox(children=(FloatProgress(value=0.0, max=63.0), HTML(value='')))"
      ]
     },
     "metadata": {},
     "output_type": "display_data"
    },
    {
     "name": "stdout",
     "output_type": "stream",
     "text": [
      "\n"
     ]
    }
   ],
   "source": [
    "#Location\n",
    "pagenum=63\n",
    "pageurl = 'https://www.taiwan.net.tw/m1.aspx?sNo=0000064&page={}'\n",
    "for page in tqdm(range(pagenum)):\n",
    "    resp = requests.get(pageurl.format(page+1))\n",
    "    soup = BeautifulSoup(resp.text, 'lxml')\n",
    "    for tag in soup.find_all(\"div\",{\"class\":\"card-title\"}) :\n",
    "        s1=tag.text\n",
    "        infos_dict['Location'].append(s1)\n",
    "        #print(s1)"
   ]
  },
  {
   "cell_type": "code",
   "execution_count": 104,
   "metadata": {},
   "outputs": [],
   "source": [
    "data={}\n",
    "data['hash_tag']=[]\n",
    "a=['#古蹟巡禮']"
   ]
  },
  {
   "cell_type": "code",
   "execution_count": null,
   "metadata": {},
   "outputs": [],
   "source": [
    "for t_hash_tag in tqdm(range(len(index_list)),desc='hash_tag'):\n",
    "    resp = requests.get(index_list[t_hash_tag])\n",
    "    soup = BeautifulSoup(resp.text, 'lxml')\n",
    "    hash_tag=[tag.text for tag in soup.find(\"div\",{\"class\":\"infoside\"}).find_all(\"div\",{\"class\":\"hashtag\"})]\n",
    "    if hash_tag :\n",
    "        data['hash_tag'].extend(hash_tag)\n",
    "        print(t_hash_tag)\n",
    "    else:\n",
    "        print (\"empty\")#247-empty\n",
    "        data['hash_tag'].extend(a)#tag訂為:古蹟巡禮"
   ]
  },
  {
   "cell_type": "code",
   "execution_count": null,
   "metadata": {},
   "outputs": [],
   "source": [
    "data['hash_tag']"
   ]
  },
  {
   "cell_type": "code",
   "execution_count": 19,
   "metadata": {},
   "outputs": [],
   "source": [
    "data_tag=pd.DataFrame.from_dict(data)\n"
   ]
  },
  {
   "cell_type": "code",
   "execution_count": 189,
   "metadata": {},
   "outputs": [],
   "source": [
    "data_tag.to_csv('data_tag_未篩選完成.csv',index=False)"
   ]
  },
  {
   "cell_type": "code",
   "execution_count": 106,
   "metadata": {},
   "outputs": [
    {
     "data": {
      "text/html": [
       "<div>\n",
       "<style scoped>\n",
       "    .dataframe tbody tr th:only-of-type {\n",
       "        vertical-align: middle;\n",
       "    }\n",
       "\n",
       "    .dataframe tbody tr th {\n",
       "        vertical-align: top;\n",
       "    }\n",
       "\n",
       "    .dataframe thead th {\n",
       "        text-align: right;\n",
       "    }\n",
       "</style>\n",
       "<table border=\"1\" class=\"dataframe\">\n",
       "  <thead>\n",
       "    <tr style=\"text-align: right;\">\n",
       "      <th></th>\n",
       "      <th>hash_tag</th>\n",
       "    </tr>\n",
       "  </thead>\n",
       "  <tbody>\n",
       "    <tr>\n",
       "      <th>247</th>\n",
       "      <td>Oops!</td>\n",
       "    </tr>\n",
       "  </tbody>\n",
       "</table>\n",
       "</div>"
      ],
      "text/plain": [
       "    hash_tag\n",
       "247    Oops!"
      ]
     },
     "execution_count": 106,
     "metadata": {},
     "output_type": "execute_result"
    }
   ],
   "source": [
    "data_tag[data_tag['hash_tag']=='Oops!']"
   ]
  },
  {
   "cell_type": "code",
   "execution_count": 182,
   "metadata": {},
   "outputs": [],
   "source": [
    "data_tag_process={}\n",
    "data_tag_process['hash_tag']=[]"
   ]
  },
  {
   "cell_type": "code",
   "execution_count": 183,
   "metadata": {},
   "outputs": [
    {
     "data": {
      "text/plain": [
       "[]"
      ]
     },
     "execution_count": 183,
     "metadata": {},
     "output_type": "execute_result"
    }
   ],
   "source": [
    "data_tag_process['hash_tag']"
   ]
  },
  {
   "cell_type": "markdown",
   "metadata": {},
   "source": [
    "* [檢查字串中是否包含指定的子字串](https://sites.google.com/site/ezpythoncolorcourse/searchsubstring)\n",
    "* [Python if...elif...else 條件判斷語法](https://www.footmark.info/programming-language/python/python-if-elif-else/)\n",
    "* [python中刪除特定字串](https://www.itread01.com/content/1547559203.html)\n",
    "* [Python 通过all()判断列表(list)中所有元素是否都包含某个字符串(string)](https://www.cjavapy.com/article/104/)"
   ]
  },
  {
   "cell_type": "code",
   "execution_count": 185,
   "metadata": {},
   "outputs": [
    {
     "name": "stdout",
     "output_type": "stream",
     "text": [
      "['big hi letters', 'big superman letters']\n"
     ]
    }
   ],
   "source": [
    "list_string= ['big', 'letters']\n",
    "list_text = ['hello letters', 'big hi letters', 'big superman letters']\n",
    "all_words = list(filter(lambda text: all([word in text for word in list_string]), list_text ))\n",
    "print(all_words) \n",
    "#['big hi letters', 'big superman letters']"
   ]
  },
  {
   "cell_type": "code",
   "execution_count": null,
   "metadata": {},
   "outputs": [],
   "source": [
    "for hash_tag_reset in tqdm(range(len(data_tag['hash_tag'])),desc='hash_tag'):\n",
    "    #print(data_tag['hash_tag'][hash_tag_reset])\n",
    "    #data_process=[]\n",
    "    data_process=data_tag['hash_tag'][hash_tag_reset]\n",
    "    #不需要的tag(生態體驗)    \n",
    "    #不需要的tag(台灣燈會)\n",
    "    #不需要的tag(部落旅遊)\n",
    "    #不需要的tag(戰地文化)\n",
    "    #不需要的tag(鐵道旅遊)\n",
    "    #print(data_process)\n",
    "    if '#文青必訪' or '#網美必拍' in data_process:\n",
    "        #print('#打卡熱點')\n",
    "        #data_tag_process['hash_tag'].extend(data_process)\n",
    "        data_process=data_process.replace('#文青必訪','#網美必拍')\n",
    "        \n",
    "        data_tag_process['hash_tag'].append(data_process+'#打卡熱點')\n",
    "        #print(data_process)             \n",
    "        \n",
    "    elif '#登山步道' or '#森林步道' in data_process:\n",
    "        data_process=data_process.replace('#登山步道','#森林步道')\n",
    "        print(data_process)\n",
    "        data_tag_process['hash_tag'].append(data_process+'#登山步道')\n",
    "        \n",
    "    elif '#看展覽' or '#藝術' in data_process:\n",
    "        data_process=data_process.replace('#看展覽','#藝術')\n",
    "        \n",
    "        data_tag_process['hash_tag'].append(data_process+'#看展覽')\n",
    "        \n",
    "    elif '#夏天戲水' or '#水上活動' in data_process:\n",
    "        data_process=data_process.replace('#夏天戲水','#水上活動')\n",
    "        \n",
    "        data_tag_process['hash_tag'].append(data_process+'#夏天戲水')\n",
    "        \n",
    "    elif '#非吃不可' or '#吃海鮮' in data_process:\n",
    "        data_process=data_process.replace('#非吃不可','#吃海鮮')\n",
    "        \n",
    "        data_tag_process['hash_tag'].append(data_process+'#非吃不可') \n",
    "        \n",
    "    elif '#看海景' or '#海灣旅遊' in data_process:\n",
    "        data_process=data_process.replace('#看海景','#海灣旅遊')\n",
    "        \n",
    "        data_tag_process['hash_tag'].append(data_process+'#看海景')\n",
    "        \n",
    "    elif '#國家風景區' or '#國家公園' in data_process:\n",
    "        data_process=data_process.replace('#國家風景區','#國家公園')\n",
    "        \n",
    "        data_tag_process['hash_tag'].append(data_process+'#國家風景區') \n",
    "        \n",
    "    elif '#生態體驗' or '#台灣燈會' or '部落旅遊' or '戰地文化' or '鐵道旅遊' in data_process:\n",
    "        #刪除不需要的tag\n",
    "        data_process=data_process.replace('#生態體驗','#台灣燈會')\n",
    "        data_process=data_process.replace('部落旅遊','戰地文化')\n",
    "        data_process=data_process.replace('鐵道旅遊','')\n",
    "        #print(data_process)\n",
    "        data_tag_process['hash_tag'].append(data_process) \n",
    "        \n",
    "        \n",
    "        \n",
    "    else:\n",
    "        data_tag_process['hash_tag'].append(data_process)\n",
    "        #print('0')\n",
    "        \n",
    "    \n",
    "    \n"
   ]
  },
  {
   "cell_type": "code",
   "execution_count": null,
   "metadata": {},
   "outputs": [],
   "source": [
    "data_tag_process['hash_tag']"
   ]
  },
  {
   "cell_type": "code",
   "execution_count": 140,
   "metadata": {},
   "outputs": [],
   "source": [
    "data_final_tag_1=pd.DataFrame.from_dict(data_tag_process)\n"
   ]
  },
  {
   "cell_type": "code",
   "execution_count": 108,
   "metadata": {},
   "outputs": [],
   "source": [
    "data_final_tag.to_csv('data_final_tag.csv',index=False)"
   ]
  },
  {
   "cell_type": "code",
   "execution_count": 143,
   "metadata": {},
   "outputs": [
    {
     "data": {
      "text/html": [
       "<div>\n",
       "<style scoped>\n",
       "    .dataframe tbody tr th:only-of-type {\n",
       "        vertical-align: middle;\n",
       "    }\n",
       "\n",
       "    .dataframe tbody tr th {\n",
       "        vertical-align: top;\n",
       "    }\n",
       "\n",
       "    .dataframe thead th {\n",
       "        text-align: right;\n",
       "    }\n",
       "</style>\n",
       "<table border=\"1\" class=\"dataframe\">\n",
       "  <thead>\n",
       "    <tr style=\"text-align: right;\">\n",
       "      <th></th>\n",
       "      <th>hash_tag</th>\n",
       "    </tr>\n",
       "  </thead>\n",
       "  <tbody>\n",
       "    <tr>\n",
       "      <th>0</th>\n",
       "      <td>#逛老街#賞夜景#非吃不可#打卡熱點</td>\n",
       "    </tr>\n",
       "    <tr>\n",
       "      <th>1</th>\n",
       "      <td>#逛老街#非吃不可#打卡熱點</td>\n",
       "    </tr>\n",
       "    <tr>\n",
       "      <th>2</th>\n",
       "      <td>#打卡熱點#非吃不可#逛夜市#打卡熱點</td>\n",
       "    </tr>\n",
       "    <tr>\n",
       "      <th>3</th>\n",
       "      <td>#地質奇觀#打卡熱點#拍婚紗#無障礙#打卡熱點</td>\n",
       "    </tr>\n",
       "    <tr>\n",
       "      <th>4</th>\n",
       "      <td>#夏天戲水#單車漫遊#逛老街#打卡熱點</td>\n",
       "    </tr>\n",
       "  </tbody>\n",
       "</table>\n",
       "</div>"
      ],
      "text/plain": [
       "                  hash_tag\n",
       "0       #逛老街#賞夜景#非吃不可#打卡熱點\n",
       "1           #逛老街#非吃不可#打卡熱點\n",
       "2      #打卡熱點#非吃不可#逛夜市#打卡熱點\n",
       "3  #地質奇觀#打卡熱點#拍婚紗#無障礙#打卡熱點\n",
       "4      #夏天戲水#單車漫遊#逛老街#打卡熱點"
      ]
     },
     "execution_count": 143,
     "metadata": {},
     "output_type": "execute_result"
    }
   ],
   "source": [
    "data_final_tag.head()"
   ]
  },
  {
   "cell_type": "code",
   "execution_count": 144,
   "metadata": {},
   "outputs": [
    {
     "data": {
      "text/html": [
       "<div>\n",
       "<style scoped>\n",
       "    .dataframe tbody tr th:only-of-type {\n",
       "        vertical-align: middle;\n",
       "    }\n",
       "\n",
       "    .dataframe tbody tr th {\n",
       "        vertical-align: top;\n",
       "    }\n",
       "\n",
       "    .dataframe thead th {\n",
       "        text-align: right;\n",
       "    }\n",
       "</style>\n",
       "<table border=\"1\" class=\"dataframe\">\n",
       "  <thead>\n",
       "    <tr style=\"text-align: right;\">\n",
       "      <th></th>\n",
       "      <th>hash_tag</th>\n",
       "    </tr>\n",
       "  </thead>\n",
       "  <tbody>\n",
       "    <tr>\n",
       "      <th>0</th>\n",
       "      <td>#逛老街#賞夜景#非吃不可#打卡熱點</td>\n",
       "    </tr>\n",
       "    <tr>\n",
       "      <th>1</th>\n",
       "      <td>#逛老街#非吃不可#打卡熱點</td>\n",
       "    </tr>\n",
       "    <tr>\n",
       "      <th>2</th>\n",
       "      <td>#打卡熱點#非吃不可#逛夜市#打卡熱點</td>\n",
       "    </tr>\n",
       "    <tr>\n",
       "      <th>3</th>\n",
       "      <td>#地質奇觀#打卡熱點#拍婚紗#無障礙#打卡熱點</td>\n",
       "    </tr>\n",
       "    <tr>\n",
       "      <th>4</th>\n",
       "      <td>#夏天戲水#單車漫遊#逛老街#打卡熱點</td>\n",
       "    </tr>\n",
       "  </tbody>\n",
       "</table>\n",
       "</div>"
      ],
      "text/plain": [
       "                  hash_tag\n",
       "0       #逛老街#賞夜景#非吃不可#打卡熱點\n",
       "1           #逛老街#非吃不可#打卡熱點\n",
       "2      #打卡熱點#非吃不可#逛夜市#打卡熱點\n",
       "3  #地質奇觀#打卡熱點#拍婚紗#無障礙#打卡熱點\n",
       "4      #夏天戲水#單車漫遊#逛老街#打卡熱點"
      ]
     },
     "execution_count": 144,
     "metadata": {},
     "output_type": "execute_result"
    }
   ],
   "source": [
    "data_final_tag_1.head()"
   ]
  },
  {
   "cell_type": "code",
   "execution_count": null,
   "metadata": {},
   "outputs": [],
   "source": []
  }
 ],
 "metadata": {
  "kernelspec": {
   "display_name": "Python 3",
   "language": "python",
   "name": "python3"
  },
  "language_info": {
   "codemirror_mode": {
    "name": "ipython",
    "version": 3
   },
   "file_extension": ".py",
   "mimetype": "text/x-python",
   "name": "python",
   "nbconvert_exporter": "python",
   "pygments_lexer": "ipython3",
   "version": "3.5.5"
  }
 },
 "nbformat": 4,
 "nbformat_minor": 2
}
