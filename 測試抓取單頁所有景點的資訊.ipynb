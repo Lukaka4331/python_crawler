{
 "cells": [
  {
   "cell_type": "code",
   "execution_count": 1,
   "metadata": {},
   "outputs": [],
   "source": [
    "from bs4 import BeautifulSoup\n",
    "from selenium.webdriver.common.by import By\n",
    "import time\n",
    "from selenium import webdriver\n",
    "driver = webdriver.Chrome()\n",
    "#pagenum=4\n",
    "pageurl = 'https://www.taiwan.net.tw/m1.aspx?sNo=0000064&page=1'\n",
    "driver.get(pageurl)"
   ]
  },
  {
   "cell_type": "code",
   "execution_count": 2,
   "metadata": {},
   "outputs": [],
   "source": [
    "#//*[@id=\"form1\"]/div[5]/div[3]/div[2]/ul/li[2]/div/div/a\n",
    "items = driver.find_elements(By.XPATH, '//*[@id=\"form1\"]/div[5]/div[3]/div[2]/ul')\n"
   ]
  },
  {
   "cell_type": "code",
   "execution_count": 3,
   "metadata": {},
   "outputs": [],
   "source": [
    "import pandas as pd\n",
    "infos_dict = {}\n",
    "infos_dict['Url'] = []"
   ]
  },
  {
   "cell_type": "code",
   "execution_count": 4,
   "metadata": {},
   "outputs": [
    {
     "name": "stdout",
     "output_type": "stream",
     "text": [
      "https://www.taiwan.net.tw/m1.aspx?sNo=0001016&id=290\n",
      "https://www.taiwan.net.tw/m1.aspx?sNo=0001016&id=19\n",
      "https://www.taiwan.net.tw/m1.aspx?sNo=0001016&id=154\n",
      "https://www.taiwan.net.tw/m1.aspx?sNo=0001016&id=2890\n",
      "https://www.taiwan.net.tw/m1.aspx?sNo=0001016&id=A12-00075\n",
      "https://www.taiwan.net.tw/m1.aspx?sNo=0001016&id=738\n",
      "https://www.taiwan.net.tw/m1.aspx?sNo=0001016&id=8561\n",
      "https://www.taiwan.net.tw/m1.aspx?sNo=0001016&id=624\n",
      "https://www.taiwan.net.tw/m1.aspx?sNo=0001016&id=74\n",
      "https://www.taiwan.net.tw/m1.aspx?sNo=0001016&id=93\n",
      "https://www.taiwan.net.tw/m1.aspx?sNo=0001016&id=2149\n",
      "https://www.taiwan.net.tw/m1.aspx?sNo=0001016&id=R177\n"
     ]
    }
   ],
   "source": [
    "for item in items:\n",
    "  \n",
    "    #url=item.find_elements_by_xpath(\"./li[1]/div/div/a\") #抓一個li   \n",
    "    url=item.find_elements_by_xpath(\"./li/div/div/a\") #抓全部的li\n",
    "    for i in url:\n",
    "        print(i.get_attribute('href'))\n",
    "        url=i.get_attribute('href')\n",
    "        infos_dict['Url'].append(url)"
   ]
  },
  {
   "cell_type": "code",
   "execution_count": 5,
   "metadata": {},
   "outputs": [],
   "source": [
    "result=pd.DataFrame.from_dict(infos_dict)        "
   ]
  },
  {
   "cell_type": "code",
   "execution_count": 6,
   "metadata": {},
   "outputs": [
    {
     "data": {
      "text/html": [
       "<div>\n",
       "<style scoped>\n",
       "    .dataframe tbody tr th:only-of-type {\n",
       "        vertical-align: middle;\n",
       "    }\n",
       "\n",
       "    .dataframe tbody tr th {\n",
       "        vertical-align: top;\n",
       "    }\n",
       "\n",
       "    .dataframe thead th {\n",
       "        text-align: right;\n",
       "    }\n",
       "</style>\n",
       "<table border=\"1\" class=\"dataframe\">\n",
       "  <thead>\n",
       "    <tr style=\"text-align: right;\">\n",
       "      <th></th>\n",
       "      <th>Url</th>\n",
       "    </tr>\n",
       "  </thead>\n",
       "  <tbody>\n",
       "    <tr>\n",
       "      <th>0</th>\n",
       "      <td>https://www.taiwan.net.tw/m1.aspx?sNo=0001016&amp;...</td>\n",
       "    </tr>\n",
       "    <tr>\n",
       "      <th>1</th>\n",
       "      <td>https://www.taiwan.net.tw/m1.aspx?sNo=0001016&amp;...</td>\n",
       "    </tr>\n",
       "    <tr>\n",
       "      <th>2</th>\n",
       "      <td>https://www.taiwan.net.tw/m1.aspx?sNo=0001016&amp;...</td>\n",
       "    </tr>\n",
       "    <tr>\n",
       "      <th>3</th>\n",
       "      <td>https://www.taiwan.net.tw/m1.aspx?sNo=0001016&amp;...</td>\n",
       "    </tr>\n",
       "    <tr>\n",
       "      <th>4</th>\n",
       "      <td>https://www.taiwan.net.tw/m1.aspx?sNo=0001016&amp;...</td>\n",
       "    </tr>\n",
       "    <tr>\n",
       "      <th>5</th>\n",
       "      <td>https://www.taiwan.net.tw/m1.aspx?sNo=0001016&amp;...</td>\n",
       "    </tr>\n",
       "    <tr>\n",
       "      <th>6</th>\n",
       "      <td>https://www.taiwan.net.tw/m1.aspx?sNo=0001016&amp;...</td>\n",
       "    </tr>\n",
       "    <tr>\n",
       "      <th>7</th>\n",
       "      <td>https://www.taiwan.net.tw/m1.aspx?sNo=0001016&amp;...</td>\n",
       "    </tr>\n",
       "    <tr>\n",
       "      <th>8</th>\n",
       "      <td>https://www.taiwan.net.tw/m1.aspx?sNo=0001016&amp;...</td>\n",
       "    </tr>\n",
       "    <tr>\n",
       "      <th>9</th>\n",
       "      <td>https://www.taiwan.net.tw/m1.aspx?sNo=0001016&amp;...</td>\n",
       "    </tr>\n",
       "    <tr>\n",
       "      <th>10</th>\n",
       "      <td>https://www.taiwan.net.tw/m1.aspx?sNo=0001016&amp;...</td>\n",
       "    </tr>\n",
       "    <tr>\n",
       "      <th>11</th>\n",
       "      <td>https://www.taiwan.net.tw/m1.aspx?sNo=0001016&amp;...</td>\n",
       "    </tr>\n",
       "  </tbody>\n",
       "</table>\n",
       "</div>"
      ],
      "text/plain": [
       "                                                  Url\n",
       "0   https://www.taiwan.net.tw/m1.aspx?sNo=0001016&...\n",
       "1   https://www.taiwan.net.tw/m1.aspx?sNo=0001016&...\n",
       "2   https://www.taiwan.net.tw/m1.aspx?sNo=0001016&...\n",
       "3   https://www.taiwan.net.tw/m1.aspx?sNo=0001016&...\n",
       "4   https://www.taiwan.net.tw/m1.aspx?sNo=0001016&...\n",
       "5   https://www.taiwan.net.tw/m1.aspx?sNo=0001016&...\n",
       "6   https://www.taiwan.net.tw/m1.aspx?sNo=0001016&...\n",
       "7   https://www.taiwan.net.tw/m1.aspx?sNo=0001016&...\n",
       "8   https://www.taiwan.net.tw/m1.aspx?sNo=0001016&...\n",
       "9   https://www.taiwan.net.tw/m1.aspx?sNo=0001016&...\n",
       "10  https://www.taiwan.net.tw/m1.aspx?sNo=0001016&...\n",
       "11  https://www.taiwan.net.tw/m1.aspx?sNo=0001016&..."
      ]
     },
     "execution_count": 6,
     "metadata": {},
     "output_type": "execute_result"
    }
   ],
   "source": [
    "result"
   ]
  },
  {
   "cell_type": "code",
   "execution_count": 8,
   "metadata": {},
   "outputs": [],
   "source": [
    "index_list=[]\n",
    "for  name in result['Url']:\n",
    "    index_list.append(name)"
   ]
  },
  {
   "cell_type": "code",
   "execution_count": 9,
   "metadata": {},
   "outputs": [
    {
     "data": {
      "text/plain": [
       "['https://www.taiwan.net.tw/m1.aspx?sNo=0001016&id=290',\n",
       " 'https://www.taiwan.net.tw/m1.aspx?sNo=0001016&id=19',\n",
       " 'https://www.taiwan.net.tw/m1.aspx?sNo=0001016&id=154',\n",
       " 'https://www.taiwan.net.tw/m1.aspx?sNo=0001016&id=2890',\n",
       " 'https://www.taiwan.net.tw/m1.aspx?sNo=0001016&id=A12-00075',\n",
       " 'https://www.taiwan.net.tw/m1.aspx?sNo=0001016&id=738',\n",
       " 'https://www.taiwan.net.tw/m1.aspx?sNo=0001016&id=8561',\n",
       " 'https://www.taiwan.net.tw/m1.aspx?sNo=0001016&id=624',\n",
       " 'https://www.taiwan.net.tw/m1.aspx?sNo=0001016&id=74',\n",
       " 'https://www.taiwan.net.tw/m1.aspx?sNo=0001016&id=93',\n",
       " 'https://www.taiwan.net.tw/m1.aspx?sNo=0001016&id=2149',\n",
       " 'https://www.taiwan.net.tw/m1.aspx?sNo=0001016&id=R177']"
      ]
     },
     "execution_count": 9,
     "metadata": {},
     "output_type": "execute_result"
    }
   ],
   "source": [
    "index_list"
   ]
  },
  {
   "cell_type": "code",
   "execution_count": 10,
   "metadata": {},
   "outputs": [
    {
     "data": {
      "text/plain": [
       "'https://www.taiwan.net.tw/m1.aspx?sNo=0001016&id=290'"
      ]
     },
     "execution_count": 10,
     "metadata": {},
     "output_type": "execute_result"
    }
   ],
   "source": [
    "index_list[0]"
   ]
  },
  {
   "cell_type": "code",
   "execution_count": 11,
   "metadata": {},
   "outputs": [
    {
     "name": "stdout",
     "output_type": "stream",
     "text": [
      "https://www.taiwan.net.tw/m1.aspx?sNo=0001016&id=19\n"
     ]
    }
   ],
   "source": [
    "for i in range(len(index_list)):\n",
    "    if i==1:\n",
    "        print(index_list[i])"
   ]
  },
  {
   "cell_type": "code",
   "execution_count": 14,
   "metadata": {},
   "outputs": [],
   "source": [
    "from bs4 import BeautifulSoup\n",
    "from selenium.webdriver.common.by import By\n",
    "import time\n",
    "from selenium import webdriver\n",
    "driver = webdriver.Chrome()"
   ]
  },
  {
   "cell_type": "code",
   "execution_count": 15,
   "metadata": {},
   "outputs": [],
   "source": [
    "import pandas as pd\n",
    "infos_dict = {}\n",
    "infos_dict['phone'] = []\n",
    "infos_dict['address'] = []\n",
    "infos_dict['ip'] = []\n",
    "infos_dict['webisite'] = []\n"
   ]
  },
  {
   "cell_type": "code",
   "execution_count": 16,
   "metadata": {},
   "outputs": [
    {
     "name": "stdout",
     "output_type": "stream",
     "text": [
      "https://tour.ntpc.gov.tw/zh-tw/Attraction/Detail?wnd_id=60&id=109990\n",
      "https://tour.ntpc.gov.tw/zh-tw/Attraction/Detail?wnd_id=60&id=109658\n",
      "https://www.travel.taipei/zh-tw/attraction/details/1536\n",
      "https://www.northguan-nsa.gov.tw/user/Article.aspx?Lang=1&SNo=04002756\n",
      "http://khh.travel/ScenicListByDistrict.aspx?a=1057&l=1#District_12\n",
      "https://www.ymsnp.gov.tw/\n",
      "https://tour.ntpc.gov.tw/zh-tw/Attraction/Detail?wnd_id=60&id=110625\n",
      "http://khh.travel/Article.aspx?a=6443&l=1\n",
      "https://www.npm.gov.tw/\n",
      "http://www.lungshan.org.tw/\n",
      "http://khh.travel/Article.aspx?a=6891&l=1\n",
      "https://www.travel.taipei/zh-tw/attraction/details/1538\n"
     ]
    }
   ],
   "source": [
    "for i in range(len(index_list)):\n",
    "    #print(index_list[i])\n",
    "    driver.get(index_list[i])\n",
    "    items = driver.find_elements(By.XPATH, '//*[@id=\"form1\"]/div[5]/div[3]/div[2]/div[3]/div[2]/dl')\n",
    "    for item in items:\n",
    "\n",
    "        # 品名在當前 tag 底下的 div 底下的 h5 底下的 a 裏面的 text\n",
    "        time = item.find_element(By.XPATH, './dl/dd[1]/a').text\n",
    "        infos_dict['phone'].append(time)\n",
    "\n",
    "        # 價格在當前 tag 底下的 div 底下的 ul 底下的 li 底下的第2層 span\n",
    "        title = item.find_element(By.XPATH, './dl/dd[2]/a').text\n",
    "        infos_dict['address'].append(title)\n",
    "\n",
    "        ip = item.find_element(By.XPATH, './dl/dd[3]').text\n",
    "        infos_dict['ip'].append(ip)\n",
    "    \n",
    "    #webisite = item.find_element(By.XPATH, './dl/dd[2]/a').text\n",
    "    #infos_dict['webisite'].append(webisite)    \n",
    "    \n",
    "        url=item.find_elements_by_xpath(\"./dl/dd[4]/a\") \n",
    "        for i in url:\n",
    "            print(i.get_attribute('href'))\n",
    "            url=i.get_attribute('href')\n",
    "            infos_dict['webisite'].append(url)\n",
    "page_1=pd.DataFrame.from_dict(infos_dict)        "
   ]
  },
  {
   "cell_type": "code",
   "execution_count": 17,
   "metadata": {},
   "outputs": [
    {
     "data": {
      "text/html": [
       "<div>\n",
       "<style scoped>\n",
       "    .dataframe tbody tr th:only-of-type {\n",
       "        vertical-align: middle;\n",
       "    }\n",
       "\n",
       "    .dataframe tbody tr th {\n",
       "        vertical-align: top;\n",
       "    }\n",
       "\n",
       "    .dataframe thead th {\n",
       "        text-align: right;\n",
       "    }\n",
       "</style>\n",
       "<table border=\"1\" class=\"dataframe\">\n",
       "  <thead>\n",
       "    <tr style=\"text-align: right;\">\n",
       "      <th></th>\n",
       "      <th>address</th>\n",
       "      <th>ip</th>\n",
       "      <th>phone</th>\n",
       "      <th>webisite</th>\n",
       "    </tr>\n",
       "  </thead>\n",
       "  <tbody>\n",
       "    <tr>\n",
       "      <th>0</th>\n",
       "      <td>新北市瑞芳區基山街、輕便路、汽車路、豎崎路一帶</td>\n",
       "      <td>121.84345/25.109808</td>\n",
       "      <td>02-2406-3270(九份遊客中心)</td>\n",
       "      <td>https://tour.ntpc.gov.tw/zh-tw/Attraction/Deta...</td>\n",
       "    </tr>\n",
       "    <tr>\n",
       "      <th>1</th>\n",
       "      <td>新北市淡水區中正路</td>\n",
       "      <td>121.43895/25.171038</td>\n",
       "      <td>02-2622-1020</td>\n",
       "      <td>https://tour.ntpc.gov.tw/zh-tw/Attraction/Deta...</td>\n",
       "    </tr>\n",
       "    <tr>\n",
       "      <th>2</th>\n",
       "      <td>臺北市士林區大東路、大南路、文林路、基河路</td>\n",
       "      <td>121.52440/25.088628</td>\n",
       "      <td>02-2882-0340</td>\n",
       "      <td>https://www.travel.taipei/zh-tw/attraction/det...</td>\n",
       "    </tr>\n",
       "    <tr>\n",
       "      <th>3</th>\n",
       "      <td>新北市萬里區港東路167-1號</td>\n",
       "      <td>121.68992/25.205290</td>\n",
       "      <td>02-24922016(野柳遊客中心)</td>\n",
       "      <td>https://www.northguan-nsa.gov.tw/user/Article....</td>\n",
       "    </tr>\n",
       "    <tr>\n",
       "      <th>4</th>\n",
       "      <td>高雄市旗津區海岸路10號</td>\n",
       "      <td>120.26948/22.614194</td>\n",
       "      <td>07-799-5678</td>\n",
       "      <td>http://khh.travel/ScenicListByDistrict.aspx?a=...</td>\n",
       "    </tr>\n",
       "    <tr>\n",
       "      <th>5</th>\n",
       "      <td>臺北市北投區陽明山竹子湖路1-20號</td>\n",
       "      <td>121.54774/25.15579</td>\n",
       "      <td>(02)2861-3601</td>\n",
       "      <td>https://www.ymsnp.gov.tw/</td>\n",
       "    </tr>\n",
       "    <tr>\n",
       "      <th>6</th>\n",
       "      <td>新北市烏來區瀑布路34號</td>\n",
       "      <td>121.55178/24.848795</td>\n",
       "      <td>02-2661-6355(烏來遊客中心)</td>\n",
       "      <td>https://tour.ntpc.gov.tw/zh-tw/Attraction/Deta...</td>\n",
       "    </tr>\n",
       "    <tr>\n",
       "      <th>7</th>\n",
       "      <td>高雄市鼓山區蓮海路</td>\n",
       "      <td>120.26385/22.626054</td>\n",
       "      <td>07-799-5678(高雄市政府觀光局)</td>\n",
       "      <td>http://khh.travel/Article.aspx?a=6443&amp;l=1</td>\n",
       "    </tr>\n",
       "    <tr>\n",
       "      <th>8</th>\n",
       "      <td>臺北市士林區至善路二段221號</td>\n",
       "      <td>121.54987/25.099917</td>\n",
       "      <td>(02)2881-2021</td>\n",
       "      <td>https://www.npm.gov.tw/</td>\n",
       "    </tr>\n",
       "    <tr>\n",
       "      <th>9</th>\n",
       "      <td>臺北市萬華區廣州街211號</td>\n",
       "      <td>121.50004/25.036846</td>\n",
       "      <td>02-2302-5162</td>\n",
       "      <td>http://www.lungshan.org.tw/</td>\n",
       "    </tr>\n",
       "    <tr>\n",
       "      <th>10</th>\n",
       "      <td>高雄市左營區蓮潭路</td>\n",
       "      <td>120.29538/22.685468</td>\n",
       "      <td>07-799-5678(高雄市政府觀光局)</td>\n",
       "      <td>http://khh.travel/Article.aspx?a=6891&amp;l=1</td>\n",
       "    </tr>\n",
       "    <tr>\n",
       "      <th>11</th>\n",
       "      <td>臺北市松山區饒河街</td>\n",
       "      <td>121.57765/25.050924</td>\n",
       "      <td>(02)2763-5733</td>\n",
       "      <td>https://www.travel.taipei/zh-tw/attraction/det...</td>\n",
       "    </tr>\n",
       "  </tbody>\n",
       "</table>\n",
       "</div>"
      ],
      "text/plain": [
       "                    address                   ip                  phone  \\\n",
       "0   新北市瑞芳區基山街、輕便路、汽車路、豎崎路一帶  121.84345/25.109808   02-2406-3270(九份遊客中心)   \n",
       "1                 新北市淡水區中正路  121.43895/25.171038           02-2622-1020   \n",
       "2     臺北市士林區大東路、大南路、文林路、基河路  121.52440/25.088628           02-2882-0340   \n",
       "3           新北市萬里區港東路167-1號  121.68992/25.205290    02-24922016(野柳遊客中心)   \n",
       "4              高雄市旗津區海岸路10號  120.26948/22.614194            07-799-5678   \n",
       "5        臺北市北投區陽明山竹子湖路1-20號   121.54774/25.15579          (02)2861-3601   \n",
       "6              新北市烏來區瀑布路34號  121.55178/24.848795   02-2661-6355(烏來遊客中心)   \n",
       "7                 高雄市鼓山區蓮海路  120.26385/22.626054  07-799-5678(高雄市政府觀光局)   \n",
       "8           臺北市士林區至善路二段221號  121.54987/25.099917          (02)2881-2021   \n",
       "9             臺北市萬華區廣州街211號  121.50004/25.036846           02-2302-5162   \n",
       "10                高雄市左營區蓮潭路  120.29538/22.685468  07-799-5678(高雄市政府觀光局)   \n",
       "11                臺北市松山區饒河街  121.57765/25.050924          (02)2763-5733   \n",
       "\n",
       "                                             webisite  \n",
       "0   https://tour.ntpc.gov.tw/zh-tw/Attraction/Deta...  \n",
       "1   https://tour.ntpc.gov.tw/zh-tw/Attraction/Deta...  \n",
       "2   https://www.travel.taipei/zh-tw/attraction/det...  \n",
       "3   https://www.northguan-nsa.gov.tw/user/Article....  \n",
       "4   http://khh.travel/ScenicListByDistrict.aspx?a=...  \n",
       "5                           https://www.ymsnp.gov.tw/  \n",
       "6   https://tour.ntpc.gov.tw/zh-tw/Attraction/Deta...  \n",
       "7           http://khh.travel/Article.aspx?a=6443&l=1  \n",
       "8                             https://www.npm.gov.tw/  \n",
       "9                         http://www.lungshan.org.tw/  \n",
       "10          http://khh.travel/Article.aspx?a=6891&l=1  \n",
       "11  https://www.travel.taipei/zh-tw/attraction/det...  "
      ]
     },
     "execution_count": 17,
     "metadata": {},
     "output_type": "execute_result"
    }
   ],
   "source": [
    "page_1"
   ]
  },
  {
   "cell_type": "code",
   "execution_count": 18,
   "metadata": {},
   "outputs": [],
   "source": [
    "page_1.to_csv('page_1_final.csv',index=False)"
   ]
  },
  {
   "cell_type": "code",
   "execution_count": null,
   "metadata": {},
   "outputs": [],
   "source": []
  }
 ],
 "metadata": {
  "kernelspec": {
   "display_name": "Python 3",
   "language": "python",
   "name": "python3"
  },
  "language_info": {
   "codemirror_mode": {
    "name": "ipython",
    "version": 3
   },
   "file_extension": ".py",
   "mimetype": "text/x-python",
   "name": "python",
   "nbconvert_exporter": "python",
   "pygments_lexer": "ipython3",
   "version": "3.5.5"
  }
 },
 "nbformat": 4,
 "nbformat_minor": 2
}
